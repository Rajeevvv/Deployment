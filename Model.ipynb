{
  "cells": [
    {
      "cell_type": "markdown",
      "metadata": {
        "id": "0FdIMg85G_e_"
      },
      "source": [
        "# **About the Dataset**"
      ]
    },
    {
      "cell_type": "code",
      "execution_count": null,
      "metadata": {
        "id": "AlLr1HkOE1mk"
      },
      "outputs": [],
      "source": [
        "import pandas as pd\n",
        "import numpy as np\n",
        "import seaborn as sns\n",
        "import matplotlib.pyplot as plt\n",
        "from sklearn.model_selection import train_test_split\n",
        "from sklearn.naive_bayes import MultinomialNB\n",
        "from sklearn.metrics import classification_report\n",
        "from sklearn.metrics import confusion_matrix\n",
        "from sklearn.linear_model import LogisticRegression\n",
        "from sklearn.ensemble import RandomForestClassifier\n",
        "from sklearn import metrics\n",
        "from sklearn.metrics import accuracy_score,roc_auc_score,roc_curve,auc\n",
        "from xgboost import XGBClassifier"
      ]
    },
    {
      "cell_type": "code",
      "execution_count": null,
      "metadata": {
        "id": "heMu6AWmE6To"
      },
      "outputs": [],
      "source": [
        "df = pd.read_csv('financial_sentiment_data.csv')\n",
        "df.head() "
      ]
    },
    {
      "cell_type": "code",
      "execution_count": null,
      "metadata": {
        "id": "2LuQ3HWGUuvz"
      },
      "outputs": [],
      "source": [
        "df.shape"
      ]
    },
    {
      "cell_type": "code",
      "execution_count": null,
      "metadata": {
        "id": "02qCS55KWQbE"
      },
      "outputs": [],
      "source": [
        "from textblob import TextBlob\n",
        "\n",
        "# Read in the dataframe from a CSV file\n",
        "df = pd.read_csv('financial_sentiment_data.csv')\n",
        "\n",
        "# Define a function to calculate polarity scores and update sentiment labels\n",
        "def update_sentiment(row):\n",
        "    sentence = row['Sentence']\n",
        "    sentiment = row['Sentiment']\n",
        "    \n",
        "    # Calculate the polarity score for the sentence\n",
        "    polarity_score = TextBlob(sentence).sentiment.polarity\n",
        "    \n",
        "    # Check if there are any other rows with the same sentence\n",
        "    duplicate_rows = df[df['Sentence'] == sentence]\n",
        "    \n",
        "    # If there are no duplicates, return the original sentiment label\n",
        "    if len(duplicate_rows) == 1:\n",
        "        return sentiment\n",
        "    \n",
        "    # Otherwise, find the sentiment label with the highest polarity score and update the original sentiment label\n",
        "    max_score = polarity_score\n",
        "    max_sentiment = sentiment\n",
        "    for _, dup_row in duplicate_rows.iterrows():\n",
        "        dup_sentiment = dup_row['Sentiment']\n",
        "        dup_score = TextBlob(dup_row['Sentence']).sentiment.polarity\n",
        "        if dup_score > max_score:\n",
        "            max_score = dup_score\n",
        "            max_sentiment = dup_sentiment\n",
        "    return max_sentiment\n",
        "\n",
        "# Apply the function to each row in the dataframe to update the Sentiment column with the updated sentiment labels\n",
        "df['Sentiment'] = df.apply(update_sentiment, axis=1)\n",
        "\n",
        "# Print the final result\n",
        "print(df)\n"
      ]
    },
    {
      "cell_type": "markdown",
      "metadata": {
        "id": "8qL4vWN3FIBt"
      },
      "source": [
        "# **Basic Exploratory Data Analysis**"
      ]
    },
    {
      "cell_type": "code",
      "execution_count": null,
      "metadata": {
        "id": "NHMmVD6hFC9P"
      },
      "outputs": [],
      "source": [
        "# Review one code\n",
        "df['Sentence'][0]"
      ]
    },
    {
      "cell_type": "code",
      "execution_count": null,
      "metadata": {
        "id": "TnbHSH-cFF3O"
      },
      "outputs": [],
      "source": [
        "df.info()"
      ]
    },
    {
      "cell_type": "code",
      "execution_count": null,
      "metadata": {
        "id": "bb2Doo8QFJ-7"
      },
      "outputs": [],
      "source": [
        "df.isnull().sum()"
      ]
    },
    {
      "cell_type": "code",
      "execution_count": null,
      "metadata": {
        "id": "CLmT6kJHFLzp"
      },
      "outputs": [],
      "source": [
        "df['Sentiment'].value_counts()"
      ]
    },
    {
      "cell_type": "markdown",
      "metadata": {
        "id": "Vy-OedmGFQK3"
      },
      "source": [
        "The data is imbalanced."
      ]
    },
    {
      "cell_type": "code",
      "execution_count": null,
      "metadata": {
        "id": "kzpYH5FbFNVr"
      },
      "outputs": [],
      "source": [
        "df.shape"
      ]
    },
    {
      "cell_type": "markdown",
      "metadata": {
        "id": "p1IT-cJH99bM"
      },
      "source": [
        "# **DataFrame Seperation** "
      ]
    },
    {
      "cell_type": "code",
      "execution_count": null,
      "metadata": {
        "id": "9p6Sys4d-J_w"
      },
      "outputs": [],
      "source": [
        "positive_df= pd.DataFrame(columns = df.columns)\n",
        "negative_df = pd.DataFrame(columns = df.columns)\n",
        "neutral_df = pd.DataFrame(columns = df.columns)"
      ]
    },
    {
      "cell_type": "code",
      "execution_count": null,
      "metadata": {
        "id": "eseB4kAz-Tfz"
      },
      "outputs": [],
      "source": [
        "for index, row in df.iterrows():\n",
        "    #For positive sentiment\n",
        "    if row[\"Sentiment\"] == \"positive\":\n",
        "        positive_df = positive_df.append(row,ignore_index=True)\n",
        "    #For negative sentiment\n",
        "    elif row[\"Sentiment\"] == \"negative\":\n",
        "        negative_df = negative_df.append(row,ignore_index=True)\n",
        "    #For neutral sentiment\n",
        "    elif row[\"Sentiment\"] == \"neutral\":\n",
        "        neutral_df = neutral_df.append(row,ignore_index=True)"
      ]
    },
    {
      "cell_type": "code",
      "execution_count": null,
      "metadata": {
        "id": "c63HzUAw1v-A"
      },
      "outputs": [],
      "source": []
    },
    {
      "cell_type": "markdown",
      "metadata": {
        "id": "tgcGA_9VUG9D"
      },
      "source": [
        "# **Text Cleaning**"
      ]
    },
    {
      "cell_type": "code",
      "execution_count": null,
      "metadata": {
        "id": "gm8izMwYbUBG"
      },
      "outputs": [],
      "source": [
        "import nltk\n",
        "\n",
        "nltk.download('punkt')\n",
        "nltk.download('wordnet')\n",
        "nltk.download('omw-1.4')"
      ]
    },
    {
      "cell_type": "code",
      "execution_count": null,
      "metadata": {
        "id": "ULGTXWdoam3S"
      },
      "outputs": [],
      "source": [
        "import re\n",
        "import string\n",
        "from nltk.corpus import stopwords\n",
        "from nltk.stem import WordNetLemmatizer\n",
        "import nltk \n",
        "nltk.download('stopwords')\n",
        "\n",
        "\n",
        "def clean_text(text):\n",
        "    # Convert to lowercase\n",
        "    text = text.lower()\n",
        "    \n",
        "    # Remove numbers\n",
        "    #text = re.sub(r'\\d+', '', text)\n",
        "    \n",
        "    text = re.sub(r'https?://\\S+|www\\.\\S+', '', text)\n",
        "    text = re.sub('\\[.*?\\]', '', text)\n",
        "    text = re.sub('<.*?>', '', text)\n",
        "    # Remove punctuation\n",
        "    text = text.translate(str.maketrans('', '', string.punctuation))\n",
        "    \n",
        "    # Tokenize text\n",
        "    words = nltk.word_tokenize(text)\n",
        "    \n",
        "    # Remove stop words\n",
        "    stop_words = set(stopwords.words('english'))\n",
        "    words = [word for word in words if word not in stop_words]\n",
        "    \n",
        "    # Lemmatize words\n",
        "    lemmatizer = WordNetLemmatizer()\n",
        "    words = [lemmatizer.lemmatize(word) for word in words]\n",
        "    \n",
        "    # Join words to form text\n",
        "    text = ' '.join(words)\n",
        "    \n",
        "    return text"
      ]
    },
    {
      "cell_type": "code",
      "execution_count": null,
      "metadata": {
        "id": "JepDlMnxYsYU"
      },
      "outputs": [],
      "source": [
        "df['clean_text'] = df['Sentence'].apply(clean_text)\n",
        "df"
      ]
    },
    {
      "cell_type": "code",
      "execution_count": null,
      "metadata": {
        "id": "gU_zYmdzX7Ip"
      },
      "outputs": [],
      "source": [
        "def rem(text):\n",
        "  words=text.split()\n",
        "  my_stopwords = stopwords.words('english')\n",
        "  stopwords_to_add = ('mn','oyj','ab','inbev','ftsc','plc','afsc','eur','mln','hel','omx','esi')\n",
        "  my_stopwords.extend(stopwords_to_add)\n",
        "  filtered_words = [word for word in words if word.lower() not in my_stopwords]\n",
        "  return ' '.join(filtered_words)"
      ]
    },
    {
      "cell_type": "code",
      "execution_count": null,
      "metadata": {
        "id": "HqvBxovKYAUz"
      },
      "outputs": [],
      "source": [
        "df['clean_text'] = df['clean_text'].apply(rem)"
      ]
    },
    {
      "cell_type": "code",
      "execution_count": null,
      "metadata": {
        "id": "P6pzftuoYNef"
      },
      "outputs": [],
      "source": [
        "df"
      ]
    },
    {
      "cell_type": "code",
      "execution_count": null,
      "metadata": {
        "id": "wulLNhKOU0om"
      },
      "outputs": [],
      "source": [
        "positive_df['clean_text_positive'] = positive_df['Sentence'].apply(clean_text)\n",
        "positive_df"
      ]
    },
    {
      "cell_type": "code",
      "execution_count": null,
      "metadata": {
        "id": "v441R8J1WRAC"
      },
      "outputs": [],
      "source": [
        "negative_df['clean_text_negative'] = negative_df['Sentence'].apply(clean_text)\n",
        "negative_df"
      ]
    },
    {
      "cell_type": "code",
      "execution_count": null,
      "metadata": {
        "id": "T1o1lglFWS_z"
      },
      "outputs": [],
      "source": [
        "neutral_df['clean_text_neutral'] = neutral_df['Sentence'].apply(clean_text)\n",
        "neutral_df"
      ]
    },
    {
      "cell_type": "markdown",
      "metadata": {
        "id": "OTsfrrw12PdF"
      },
      "source": [
        "# **Label Encoding**"
      ]
    },
    {
      "cell_type": "code",
      "execution_count": null,
      "metadata": {
        "id": "ikJxfvbT2LwW"
      },
      "outputs": [],
      "source": [
        "from sklearn.preprocessing import LabelEncoder\n",
        "\n",
        "le = LabelEncoder()\n",
        "df['Sentiment'] = le.fit_transform(df['Sentiment'])"
      ]
    },
    {
      "cell_type": "code",
      "execution_count": null,
      "metadata": {
        "id": "6GXI5Q-P2WHi"
      },
      "outputs": [],
      "source": [
        "df.head()"
      ]
    },
    {
      "cell_type": "markdown",
      "metadata": {
        "id": "Ob21NLM4ucfa"
      },
      "source": [
        "# **TFIDF - Term frequency inverse Document Frequency**"
      ]
    },
    {
      "cell_type": "code",
      "execution_count": null,
      "metadata": {
        "id": "LGiPP8WYubm6"
      },
      "outputs": [],
      "source": [
        "from sklearn.feature_extraction.text import TfidfVectorizer\n",
        "\n",
        "vectorizer = TfidfVectorizer()"
      ]
    },
    {
      "cell_type": "code",
      "execution_count": null,
      "metadata": {
        "id": "8GvwZA4JuVvg"
      },
      "outputs": [],
      "source": [
        "X_tfidf = vectorizer.fit_transform(df['clean_text'])"
      ]
    },
    {
      "cell_type": "code",
      "execution_count": null,
      "metadata": {
        "id": "iZ4qEPBTuhZU"
      },
      "outputs": [],
      "source": [
        "vectorizer.vocabulary_"
      ]
    },
    {
      "cell_type": "code",
      "execution_count": null,
      "metadata": {
        "id": "UcsuUlDQuhb1"
      },
      "outputs": [],
      "source": [
        "feature_names = list(vectorizer.vocabulary_.keys())"
      ]
    },
    {
      "cell_type": "code",
      "execution_count": null,
      "metadata": {
        "id": "DGKD-Akkuhet"
      },
      "outputs": [],
      "source": [
        "X_tfidf = pd.DataFrame(X_tfidf.toarray(), columns=feature_names)"
      ]
    },
    {
      "cell_type": "code",
      "execution_count": null,
      "metadata": {
        "id": "vLAZUiVcuhhA"
      },
      "outputs": [],
      "source": [
        "X_tfidf.head()"
      ]
    },
    {
      "cell_type": "code",
      "execution_count": null,
      "metadata": {
        "id": "d9AIUh9B08g_"
      },
      "outputs": [],
      "source": [
        "y = df['Sentiment']"
      ]
    },
    {
      "cell_type": "code",
      "execution_count": null,
      "metadata": {
        "id": "Mni9hds25vnz"
      },
      "outputs": [],
      "source": [
        "!pip install imblearn"
      ]
    },
    {
      "cell_type": "markdown",
      "metadata": {
        "id": "286EwV3v24dA"
      },
      "source": [
        "# **Balancing the data by Smote**"
      ]
    },
    {
      "cell_type": "code",
      "execution_count": null,
      "metadata": {
        "id": "s7V3dXMuuhjT"
      },
      "outputs": [],
      "source": [
        "# Apply SMOTE to balance dataset\n",
        "\n",
        "from imblearn.over_sampling import SMOTE\n",
        "\n",
        "y = df['Sentiment']\n",
        "smote = SMOTE(random_state=42)\n",
        "X, y = smote.fit_resample(X_tfidf, y)\n",
        "\n",
        "y.value_counts()"
      ]
    },
    {
      "cell_type": "markdown",
      "metadata": {
        "id": "eNHxLVRw28KP"
      },
      "source": [
        "# **Multinomial Naive Bayes**"
      ]
    },
    {
      "cell_type": "code",
      "execution_count": null,
      "metadata": {
        "id": "z_Ep89pJuhmx"
      },
      "outputs": [],
      "source": [
        "# Split resampled data into training and testing sets\n",
        "X_train, X_test, y_train, y_test = train_test_split(X, y, test_size=0.3, random_state=42)\n",
        "\n",
        "# Train Multinomial Naive Bayes model\n",
        "mnb = MultinomialNB()\n",
        "mnb.fit(X_train, y_train)"
      ]
    },
    {
      "cell_type": "code",
      "execution_count": null,
      "metadata": {
        "id": "QGMP3zjZuhtt"
      },
      "outputs": [],
      "source": [
        "# Predict on test data\n",
        "y_pred = mnb.predict(X_test)"
      ]
    },
    {
      "cell_type": "code",
      "execution_count": null,
      "metadata": {
        "id": "vA8SOkpXuhwJ"
      },
      "outputs": [],
      "source": [
        "from sklearn.metrics import classification_report\n",
        "print(classification_report(y_test,y_pred))"
      ]
    },
    {
      "cell_type": "code",
      "execution_count": null,
      "metadata": {
        "id": "QVh05irz5vn0"
      },
      "outputs": [],
      "source": [
        "from sklearn.model_selection import cross_val_score\n",
        "\n",
        "Scores=cross_val_score(mnb, X=X, y=y , cv = 5)\n",
        "print(Scores)"
      ]
    },
    {
      "cell_type": "markdown",
      "source": [
        "Saving the trained Model\n"
      ],
      "metadata": {
        "id": "lumaNnw47zA9"
      }
    },
    {
      "cell_type": "code",
      "source": [
        "import pickle"
      ],
      "metadata": {
        "id": "qItJ24mQ8X4C"
      },
      "execution_count": null,
      "outputs": []
    },
    {
      "cell_type": "code",
      "source": [
        "pickle.dump(mnb, open('mnb_model.plk','wb'))"
      ],
      "metadata": {
        "id": "5z4_55EV8dK8"
      },
      "execution_count": null,
      "outputs": []
    },
    {
      "cell_type": "code",
      "source": [
        "pickle.dump(vectorizer,open('tf_idf_model.pkl','wb'))"
      ],
      "metadata": {
        "id": "9Mn9IWGWs52t"
      },
      "execution_count": null,
      "outputs": []
    },
    {
      "cell_type": "code",
      "source": [],
      "metadata": {
        "id": "KKRdNWlMtMZ8"
      },
      "execution_count": null,
      "outputs": []
    },
    {
      "cell_type": "code",
      "source": [
        "#loading the saved model\n",
        "loaded_model = pickle.load(open('trained-model.sav','rb'))"
      ],
      "metadata": {
        "id": "pR_eMmU19iff"
      },
      "execution_count": null,
      "outputs": []
    },
    {
      "cell_type": "code",
      "source": [
        "def predict_sentiment(input_text, loaded_model):\n",
        "    # Load the vectorizer used during training\n",
        "    vectorizer = TfidfVectorizer()\n",
        "\n",
        "    # Clean the input text\n",
        "    input_text = clean_text(input_text)\n",
        "    \n",
        "    # Remove stop words\n",
        "    input_text = rem(input_text)\n",
        "\n",
        "    # Vectorize the input text\n",
        "    input_text_vectorized = vectorizer.transform([input_text])\n",
        "\n",
        "    # Make a prediction using the loaded model\n",
        "    result = mnb.predict(input_text_vectorized)[0]\n",
        "\n",
        "    # Convert the prediction into a human-readable sentiment label\n",
        "    if result == 0:\n",
        "        sentiment = 'Negative'\n",
        "    elif result == 1:\n",
        "        sentiment = 'Neutral'\n",
        "    elif result == 2:\n",
        "        sentiment = 'Positive'\n",
        "\n",
        "    return sentiment"
      ],
      "metadata": {
        "id": "gqpyBr2ZFKC7"
      },
      "execution_count": null,
      "outputs": []
    },
    {
      "cell_type": "code",
      "source": [
        "import inspect\n",
        "\n",
        "# Get the definition of the predict_sentiment function\n",
        "definition = inspect.getsource(predict_sentiment)\n",
        "\n",
        "# Print the definition\n",
        "print(definition)"
      ],
      "metadata": {
        "id": "T7vZVLozd5Al"
      },
      "execution_count": null,
      "outputs": []
    }
  ],
  "metadata": {
    "accelerator": "GPU",
    "colab": {
      "private_outputs": true,
      "provenance": [],
      "toc_visible": true
    },
    "gpuClass": "standard",
    "kernelspec": {
      "display_name": "Python 3 (ipykernel)",
      "language": "python",
      "name": "python3"
    },
    "language_info": {
      "codemirror_mode": {
        "name": "ipython",
        "version": 3
      },
      "file_extension": ".py",
      "mimetype": "text/x-python",
      "name": "python",
      "nbconvert_exporter": "python",
      "pygments_lexer": "ipython3",
      "version": "3.9.13"
    }
  },
  "nbformat": 4,
  "nbformat_minor": 0
}